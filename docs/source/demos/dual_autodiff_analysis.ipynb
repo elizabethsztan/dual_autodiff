{
 "cells": [
  {
   "cell_type": "markdown",
   "metadata": {},
   "source": [
    "# Cython Analysis\n",
    "\n",
    "The dual_autodiff package has a Cythonized version called dual_autodiff_x. Let's analyse the performances for both of the packages."
   ]
  },
  {
   "cell_type": "markdown",
   "metadata": {},
   "source": []
  }
 ],
 "metadata": {
  "language_info": {
   "name": "python"
  }
 },
 "nbformat": 4,
 "nbformat_minor": 2
}
