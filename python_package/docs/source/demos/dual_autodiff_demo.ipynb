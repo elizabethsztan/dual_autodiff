{
 "cells": [
  {
   "cell_type": "markdown",
   "metadata": {},
   "source": [
    "# Automatic differentiation with dual numbers"
   ]
  },
  {
   "cell_type": "markdown",
   "metadata": {},
   "source": [
    "A dual number is defined as\n",
    "\n",
    "\\begin{align} \n",
    "x = a + b \\epsilon \\tag{1}\n",
    "\\end{align}\n",
    "\n",
    "where $\\epsilon^2 = 0$. Here, the real part is $a$ and the dual part is $b$.\\\n",
    "Dual numbers are useful because they can be used in differentiation. Consider the square of a dual number:\n",
    "\\begin{align} \n",
    "x^2 = (a + b \\epsilon)^2 = a^2 + 2ab\\epsilon \\tag{2}\n",
    "\\end{align}\n",
    "Using the subsitution $a = x$ and $b = 1$, the dual part of $x^2$ is $2x$, which is the derivative of $x^2$ with respect to $x$.\n",
    "\n",
    "Extending this further, if I have a function $f(x)$, I can find the derivative of that function at $x_0$ by substituting the dual number, $x = x_0 + 1 \\epsilon$, into the function. The outputted dual number contains a real part given by $f(x_0)$ and a dual part, given by $f'(x_0)$."
   ]
  },
  {
   "cell_type": "markdown",
   "metadata": {},
   "source": [
    "## Example: differentiating a function\n",
    "Consider the function\n",
    "\n",
    "\\begin{align} \n",
    "f(x) = \\log{(\\sin{x})} + x^2 \\cos{x} \\tag{3}\n",
    "\\end{align}\n",
    "\n",
    "The differentiated function is given by \n",
    "\n",
    "\\begin{align} \n",
    "f'(x) = \\cot{x} + 2x\\cos{x} - x^2 \\sin{x} \\tag{4}\n",
    "\\end{align}\n",
    "\n",
    "Let's compare the values of the differentiated function at $x=1.5$ using both the analytical form of $f'(x)$ and by using dual numbers."
   ]
  },
  {
   "cell_type": "code",
   "execution_count": 2,
   "metadata": {},
   "outputs": [],
   "source": [
    "#import the required packages\n",
    "import numpy as np\n",
    "import matplotlib.pyplot as plt\n",
    "from dual_autodiff import Dual"
   ]
  },
  {
   "cell_type": "code",
   "execution_count": 3,
   "metadata": {},
   "outputs": [],
   "source": [
    "#Define the above function and first order differentiated function such that it works on dual numbers\n",
    "def f(x):\n",
    "    return np.log(np.sin(x)) + x**2 * np.cos(x)\n",
    "\n",
    "def fprime(x):\n",
    "    return 1 / np.tan(x) + 2 * x * np.cos(x) - x **2 * np.sin(x)"
   ]
  },
  {
   "cell_type": "code",
   "execution_count": 4,
   "metadata": {},
   "outputs": [
    {
     "name": "stdout",
     "output_type": "stream",
     "text": [
      "f(x = 1.5) =  0.157\n",
      "Analytical derivative: f'(x = 1.5) = -1.9612372705533612\n",
      "Using dual numbers derivative: f'(x = 1.5) = -1.9612372705533612\n"
     ]
    }
   ],
   "source": [
    "x = 1.5\n",
    "x_dual = Dual (1.5, {'x': 1})\n",
    "\n",
    "print(f\"f(x = 1.5) = {f(x): .3f}\")\n",
    "print(f\"Analytical derivative: f'(x = 1.5) = {fprime(x)}\")\n",
    "print(f\"Using dual numbers derivative: f'(x = 1.5) = {f(x_dual).dual['x']}\")"
   ]
  },
  {
   "cell_type": "markdown",
   "metadata": {},
   "source": [
    "We can see that the analytical derivative and the derivative found using dual numbers are exactly the same, which is what we expect."
   ]
  },
  {
   "cell_type": "markdown",
   "metadata": {},
   "source": [
    "## Example: partial differentiation\n",
    "\n",
    "The Dual class can take in multiple dual components to make partial differentiation easier. Using the Dual class, let's compute the following function and its partial derivatives at the point $(1,2)$:\n",
    "\n",
    "\\begin{align} \n",
    "f(x, y) = y^2 \\sinh{(3x+2)}+2y+x \\tag{5}\n",
    "\\end{align}\n",
    "\n",
    "\\begin{align} \n",
    "f_x = 3y^2 \\cosh{(3x+2)}+1 \\tag{6}\n",
    "\\end{align}\n",
    "\n",
    "\\begin{align} \n",
    "f_y = 2y\\sinh{(3x+2)} + 2 \\tag{7}\n",
    "\\end{align}\n"
   ]
  },
  {
   "cell_type": "code",
   "execution_count": 5,
   "metadata": {},
   "outputs": [],
   "source": [
    "#Define the function and the partial derivatives\n",
    "def fmv (x, y):\n",
    "    return y**2 * np.sinh(3 * x + 2) + 2 * y + x\n",
    "\n",
    "def fmv_x(x, y):\n",
    "    return 3 * y**2 * np.cosh(3 * x + 2) + 1\n",
    "\n",
    "def fmv_y (x, y):\n",
    "    return 2 * y * np.sinh(3 * x + 2) + 2"
   ]
  },
  {
   "cell_type": "code",
   "execution_count": 6,
   "metadata": {},
   "outputs": [
    {
     "name": "stdout",
     "output_type": "stream",
     "text": [
      "f(x = 1, y = 2) =  301.813\n",
      "Analytical partial derivative wrt x: f_x(x = 1, y = 2) = 891.5193822974542\n",
      "Using dual numbers partial derivative wrt x: f_x(x = 1, y = 2) = 891.5193822974542\n",
      "Analytical partial derivative wrt y: f_y(x = 1, y = 2) = 298.812842311155\n",
      "Using dual numbers partial derivative wrt y: f_y(x = 1, y = 2) = 298.812842311155\n"
     ]
    }
   ],
   "source": [
    "#define dual numbers x and y\n",
    "\n",
    "x_dual = Dual(1, {'x': 1, 'y': 0})\n",
    "y_dual = Dual(2, {'x': 0, 'y': 1})\n",
    "\n",
    "print(f\"f(x = 1, y = 2) = {fmv(1, 2): .3f}\")\n",
    "print(f\"Analytical partial derivative wrt x: f_x(x = 1, y = 2) = {fmv_x(1, 2)}\")\n",
    "print(f\"Using dual numbers partial derivative wrt x: f_x(x = 1, y = 2) = {fmv(x_dual, y_dual).dual['x']}\")\n",
    "print(f\"Analytical partial derivative wrt y: f_y(x = 1, y = 2) = {fmv_y(1, 2)}\")\n",
    "print(f\"Using dual numbers partial derivative wrt y: f_y(x = 1, y = 2) = {fmv(x_dual, y_dual).dual['y']}\")"
   ]
  },
  {
   "cell_type": "markdown",
   "metadata": {},
   "source": [
    "As demonstrated above, when dual numbers are input into the function, the result is a dual number where the dual components represent the partial derivatives of the function at the specified point.\\\n",
    "The dual numbers must be inputted into the function as so \n",
    "```python\n",
    "x_dual = Dual(x0, {'x': 1, {'y': 0}, {'z': 0}...})\n",
    "```\n",
    "where x0 is the x-value that the derivative is being evaluated at."
   ]
  },
  {
   "cell_type": "markdown",
   "metadata": {},
   "source": [
    "## Example: adding custom functions\n",
    "\n",
    "The tools.py file contains a tool_store that has all the base implementations of the class, but dual_autodiff allows the user to add and remove custom functions. Let's demonstrate using the sigmoid function:\n",
    "\n",
    "\\begin{align} \n",
    "s(x) = \\frac{1}{1+e^{-x}} \\tag{8}\n",
    "\\end{align}\n",
    "\n",
    "\\begin{align} \n",
    "s'(x) = s(x) (1-s(x)) \\tag{9}\n",
    "\\end{align}\n",
    "\n"
   ]
  },
  {
   "cell_type": "code",
   "execution_count": 7,
   "metadata": {},
   "outputs": [
    {
     "name": "stdout",
     "output_type": "stream",
     "text": [
      "s(x = 2) =  0.881\n",
      "Analytical derivative: s'(x = 2) = 0.10499358540350662\n",
      "Using dual numbers derivative: s'(x = 2) = 0.1049935854035065\n",
      "Check if sigmoid in tools store before removal:  True\n",
      "Check if sigmoid in tools store after removal:  False\n",
      "dict_keys(['sin', 'cos', 'tan', 'sinh', 'cosh', 'tanh', 'exp', 'log', 'sqrt', 'arcsin', 'arccos', 'arctan'])\n"
     ]
    }
   ],
   "source": [
    "from dual_autodiff.tools import add_function, remove_function, get_functions\n",
    "\n",
    "def sigmoid(x):\n",
    "    return 1 / (1 + np.exp(-x))\n",
    "\n",
    "def sigmoid_derivative(x):\n",
    "    s = sigmoid(x)\n",
    "    return s * (1 - s)\n",
    "\n",
    "# Add the function to the tool_store\n",
    "add_function('sigmoid', sigmoid, sigmoid_derivative)\n",
    "\n",
    "# Find derivative of sigmoid at x=2\n",
    "x_dual = Dual(2, {'x': 1})\n",
    "analytical_result = sigmoid_derivative(2)\n",
    "dual_result = sigmoid(x)\n",
    "print(f\"s(x = 2) = {sigmoid(2): .3f}\")\n",
    "print(f\"Analytical derivative: s'(x = 2) = {sigmoid_derivative(2)}\")\n",
    "print(f\"Using dual numbers derivative: s'(x = 2) = {sigmoid(x_dual).dual['x']}\")\n",
    "# Difference in numbers due to floating point handling\n",
    "\n",
    "# Can remove function from tools_store\n",
    "print('Check if sigmoid in tools store before removal: ', 'sigmoid' in list(get_functions().keys()))\n",
    "remove_function('sigmoid')\n",
    "print('Check if sigmoid in tools store after removal: ', 'sigmoid' in list(get_functions().keys()))\n",
    "print(get_functions().keys())"
   ]
  },
  {
   "cell_type": "markdown",
   "metadata": {},
   "source": [
    "## Comparing the numerical derivative to the analytical derivative\n",
    "\n",
    "Using the function given by equation $(3)$, let's compare the convergence of the numerical derivative to the analytical deerivative at the same point $x=1.5$. We can compute the numerical derivative of a function at a point using either the forward difference approximation\n",
    "\n",
    "\\begin{align} \n",
    "f'(x) \\approx \\frac{f(x+h)-f(x)}{h} \\tag{10}\n",
    "\\end{align}\n",
    "\n",
    "or the central difference approximation \n",
    "\n",
    "\\begin{align} \n",
    "f'(x) \\approx \\frac{f(x+h)-f(x-h)}{2h} \\tag{11}\n",
    "\\end{align}\n"
   ]
  },
  {
   "cell_type": "code",
   "execution_count": 8,
   "metadata": {},
   "outputs": [],
   "source": [
    "# Forward difference approximation\n",
    "def num_derivative_fwd (f, x, h = 1e-5):\n",
    "    return (f(x + h) - f(x)) / h\n",
    "\n",
    "# Central difference approximation\n",
    "def num_derivative_cnt (f, x, h = 1e-5):\n",
    "    return (f(x + h) - f(x - h)) / (2 * h)"
   ]
  },
  {
   "cell_type": "markdown",
   "metadata": {},
   "source": [
    "Plot of the convergence of the numerical derivative at smaller step sizes."
   ]
  },
  {
   "cell_type": "code",
   "execution_count": 9,
   "metadata": {},
   "outputs": [],
   "source": [
    "h = [1e-1, 1e-2, 1e-3, 1e-5, 1e-7, 1e-9] # Step sizes\n",
    "\n",
    "# Make empty arrays\n",
    "fwd = np.zeros(len(h))\n",
    "cnt = np.zeros(len(h))\n",
    "\n",
    "# Compute numerical derivative using either method at different step sizes\n",
    "for i in range(len(h)):\n",
    "    fwd[i] = num_derivative_fwd(f, 1.5, h[i])\n",
    "    cnt[i] = num_derivative_cnt(f, 1.5, h[i])\n",
    "\n",
    "x_analytical = fprime(1.5)\n",
    "\n",
    "# Calculate absolute difference\n",
    "diff_fwd = np.abs(fwd - x_analytical)\n",
    "diff_cnt = np.abs(cnt - x_analytical)"
   ]
  },
  {
   "cell_type": "code",
   "execution_count": 16,
   "metadata": {},
   "outputs": [
    {
     "data": {
      "text/plain": [
       "[]"
      ]
     },
     "execution_count": 16,
     "metadata": {},
     "output_type": "execute_result"
    },
    {
     "data": {
      "image/png": "[encoded data removed]",
      "text/plain": [
       "<Figure size 640x480 with 1 Axes>"
      ]
     },
     "metadata": {},
     "output_type": "display_data"
    }
   ],
   "source": [
    "plt.plot(h, diff_fwd, marker = 'o',  label = 'Forward difference approximation')\n",
    "plt.plot(h, diff_cnt, marker = 'o', label = 'Central difference approximation')\n",
    "plt.xscale('log')\n",
    "plt.yscale('log')\n",
    "plt.xlabel(r'Step size, $h$')\n",
    "plt.ylabel(r'Absolute error')\n",
    "plt.legend()\n",
    "#plt.grid()\n",
    "plt.title(r'Convergence of numerical derivative of $f(x)$ at $x=1.5$')\n",
    "plt.savefig('numerical_derivative.png')\n",
    "plt.plot()"
   ]
  },
  {
   "cell_type": "markdown",
   "metadata": {},
   "source": [
    "The central difference approximation is more accurate, because the truncation error scales as $O(h^2)$ whereas for the forward difference approximation, the error scales as $O(h)$. Smaller values of $h$ will decrease the truncation error, as shown in the plot above.\n",
    "\n",
    "However, at smaller levels of $h$, the error seems to increase again. This is due to the way the computer deals with floating point numbers: the numerator $f(x+h)-f(x)$ or $f(x+h)-f(x-h)$ becomes a very small number leading to catastrophic cancellation. This error scales as $O(1/h)$, hence is larger for small $h$. To find optimum $h$, you need a balance between these two errors."
   ]
  }
 ],
 "metadata": {
  "kernelspec": {
   "display_name": "c1_tests",
   "language": "python",
   "name": "python3"
  },
  "language_info": {
   "codemirror_mode": {
    "name": "ipython",
    "version": 3
   },
   "file_extension": ".py",
   "mimetype": "text/x-python",
   "name": "python",
   "nbconvert_exporter": "python",
   "pygments_lexer": "ipython3",
   "version": "3.13.1"
  }
 },
 "nbformat": 4,
 "nbformat_minor": 2
}
