{
 "cells": [
  {
   "cell_type": "markdown",
   "metadata": {},
   "source": [
    "# Automatic differentiation with dual numbers"
   ]
  },
  {
   "cell_type": "markdown",
   "metadata": {},
   "source": [
    "A dual number is defined as\\\n",
    "$\n",
    "\\begin{align} \n",
    "x = a + b \\epsilon \\tag{1}\n",
    "\\end{align}\n",
    "$\n",
    "where $\\epsilon^2 = 0$. Here, the real part is $a$ and the dual part is $b$.\\\n",
    "Dual numbers are useful because they can be used in differentiation. Consider the square of a dual number:\n",
    "$\n",
    "\\begin{align} \n",
    "x^2 = (a + b \\epsilon)^2 = a^2 + 2ab\\epsilon \\tag{2}\n",
    "\\end{align}\n",
    "Uusing the subsitution $a = x$ and $b = 1$, the dual part of $x^2$ is $2x$, which is the derivative of $x^2$ with respect to $x$."
   ]
  },
  {
   "cell_type": "markdown",
   "metadata": {},
   "source": [
    "## Example: differentiating a function.\n",
    "Consider the function\n",
    "$\n",
    "\\begin{align} \n",
    "f(x) = \\log{(\\sin{x})} + x^2 \\cos{x} \\tag{3}\n",
    "\\end{align}\n",
    "$\n",
    "The differentiated function is given by \n",
    "$\n",
    "\\begin{align} \n",
    "f'(x) = \\cot{x} + 2x\\cos{x} - x^2 \\sin{x} \\tag{4}\n",
    "\\end{align}\n",
    "$\n",
    "Let's compare the values of the differentiated function using both the analytical form of $f'(x)$ and by using dual numbers."
   ]
  },
  {
   "cell_type": "code",
   "execution_count": null,
   "metadata": {},
   "outputs": [],
   "source": [
    "#import the package\n",
    "from dual_autodiff import Dual"
   ]
  },
  {
   "cell_type": "code",
   "execution_count": null,
   "metadata": {},
   "outputs": [],
   "source": [
    "#Define the above function and first order differentiated function such that it works on dual numbers\n",
    "def f(x):\n",
    "    return x.sin().log() + x * x * x.cos()\n",
    "\n",
    "def f2(x):\n",
    "    return 1 / x.tan() + 2 * x * x.cos() - x * x * x.sin()"
   ]
  },
  {
   "cell_type": "code",
   "execution_count": 15,
   "metadata": {},
   "outputs": [
    {
     "name": "stdout",
     "output_type": "stream",
     "text": [
      "Dual(real=-1.7596703822837303, dual=-5.759434607851582)\n"
     ]
    }
   ],
   "source": [
    "x = Dual (2, 1)\n",
    "print(f(x))"
   ]
  },
  {
   "cell_type": "code",
   "execution_count": null,
   "metadata": {},
   "outputs": [],
   "source": []
  }
 ],
 "metadata": {
  "kernelspec": {
   "display_name": "dual_autodiff-env",
   "language": "python",
   "name": "python3"
  },
  "language_info": {
   "codemirror_mode": {
    "name": "ipython",
    "version": 3
   },
   "file_extension": ".py",
   "mimetype": "text/x-python",
   "name": "python",
   "nbconvert_exporter": "python",
   "pygments_lexer": "ipython3",
   "version": "3.13.0"
  }
 },
 "nbformat": 4,
 "nbformat_minor": 2
}
