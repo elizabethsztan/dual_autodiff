{
 "cells": [
  {
   "cell_type": "markdown",
   "metadata": {},
   "source": [
    "# Automatic differentiation with dual numbers"
   ]
  },
  {
   "cell_type": "markdown",
   "metadata": {},
   "source": [
    "A dual number is defined as\\\n",
    "$\n",
    "\\begin{align} \n",
    "x = a + b \\epsilon \\tag{1}\n",
    "\\end{align}\n",
    "$\n",
    "where $\\epsilon^2 = 0$. Here, the real part is $a$ and the dual part is $b$.\\\n",
    "Dual numbers are useful because they can be used in differentiation. Consider the square of a dual number:\n",
    "\\begin{align} \n",
    "x^2 = (a + b \\epsilon)^2 = a^2 + 2ab\\epsilon \\tag{2}\n",
    "\\end{align}\n",
    "Uusing the subsitution $a = x$ and $b = 1$, the dual part of $x^2$ is $2x$, which is the derivative of $x^2$ with respect to $x$."
   ]
  },
  {
   "cell_type": "markdown",
   "metadata": {},
   "source": [
    "## Example: differentiating a function.\n",
    "Consider the function\n",
    "$\n",
    "\\begin{align} \n",
    "f(x) = \\log{(\\sin{x})} + x^2 \\cos{x} \\tag{3}\n",
    "\\end{align}\n",
    "$\n",
    "The differentiated function is given by \n",
    "$\n",
    "\\begin{align} \n",
    "f'(x) = \\cot{x} + 2x\\cos{x} - x^2 \\sin{x} \\tag{4}\n",
    "\\end{align}\n",
    "$\n",
    "Let's compare the values of the differentiated function using both the analytical form of $f'(x)$ and by using dual numbers."
   ]
  },
  {
   "cell_type": "code",
   "execution_count": 1,
   "metadata": {},
   "outputs": [],
   "source": [
    "#import the required packages\n",
    "import numpy as np\n",
    "from dual_autodiff import Dual"
   ]
  },
  {
   "cell_type": "code",
   "execution_count": 2,
   "metadata": {},
   "outputs": [],
   "source": [
    "x = Dual (2, {'x': 1})"
   ]
  },
  {
   "cell_type": "code",
   "execution_count": 3,
   "metadata": {},
   "outputs": [],
   "source": [
    "#Define the above function and first order differentiated function such that it works on dual numbers\n",
    "def f(x):\n",
    "    return np.log(np.sin(x)) + x**2 * np.cos(x)\n",
    "\n",
    "def f2(x):\n",
    "    return 1 / np.tan(x) + 2 * x * np.cos(x) - x **2 * np.sin(x)"
   ]
  },
  {
   "cell_type": "code",
   "execution_count": 4,
   "metadata": {},
   "outputs": [
    {
     "name": "stdout",
     "output_type": "stream",
     "text": [
      "Dual(real=-1.7596703822837303, dual={'x': np.float64(-5.759434607851582)})\n"
     ]
    }
   ],
   "source": [
    "x = Dual (2, {'x': 1})\n",
    "print(f(x))"
   ]
  },
  {
   "cell_type": "code",
   "execution_count": null,
   "metadata": {},
   "outputs": [],
   "source": []
  },
  {
   "cell_type": "markdown",
   "metadata": {},
   "source": [
    "## Example: adding custom functions\n",
    "\n",
    "The tools.py file contains a tool_store that has all the base implementations of the class, but dual_autodiff allows the user to add custom functions. Let's demonstrate using the sigmoid function:\n",
    "$\n",
    "\\begin{align} \n",
    "s(x) = \\frac{1}{1+e^{-x}} \\tag{5}\n",
    "\\end{align}\n",
    "$\n",
    "\n",
    "$\n",
    "\\begin{align} \n",
    "s'(x) = s(x) (1-s(x)) \\tag{6}\n",
    "\\end{align}\n",
    "$\n"
   ]
  },
  {
   "cell_type": "code",
   "execution_count": 7,
   "metadata": {},
   "outputs": [
    {
     "ename": "TypeError",
     "evalue": "bad operand type for unary -: 'Dual'",
     "output_type": "error",
     "traceback": [
      "\u001b[1;31m---------------------------------------------------------------------------\u001b[0m",
      "\u001b[1;31mTypeError\u001b[0m                                 Traceback (most recent call last)",
      "Cell \u001b[1;32mIn[7], line 15\u001b[0m\n\u001b[0;32m     13\u001b[0m \u001b[38;5;66;03m# Now you can use it\u001b[39;00m\n\u001b[0;32m     14\u001b[0m x \u001b[38;5;241m=\u001b[39m Dual(\u001b[38;5;241m2\u001b[39m, {\u001b[38;5;124m'\u001b[39m\u001b[38;5;124mx\u001b[39m\u001b[38;5;124m'\u001b[39m: \u001b[38;5;241m1\u001b[39m})\n\u001b[1;32m---> 15\u001b[0m result \u001b[38;5;241m=\u001b[39m \u001b[43msigmoid\u001b[49m\u001b[43m(\u001b[49m\u001b[43mx\u001b[49m\u001b[43m)\u001b[49m\n\u001b[0;32m     16\u001b[0m \u001b[38;5;28mprint\u001b[39m(result)\n",
      "Cell \u001b[1;32mIn[7], line 4\u001b[0m, in \u001b[0;36msigmoid\u001b[1;34m(x)\u001b[0m\n\u001b[0;32m      3\u001b[0m \u001b[38;5;28;01mdef\u001b[39;00m \u001b[38;5;21msigmoid\u001b[39m(x):\n\u001b[1;32m----> 4\u001b[0m     \u001b[38;5;28;01mreturn\u001b[39;00m \u001b[38;5;241m1\u001b[39m \u001b[38;5;241m/\u001b[39m (\u001b[38;5;241m1\u001b[39m \u001b[38;5;241m+\u001b[39m np\u001b[38;5;241m.\u001b[39mexp(\u001b[38;5;241;43m-\u001b[39;49m\u001b[43mx\u001b[49m))\n",
      "\u001b[1;31mTypeError\u001b[0m: bad operand type for unary -: 'Dual'"
     ]
    }
   ],
   "source": [
    "from dual_autodiff.tools import add_function\n",
    "\n",
    "def sigmoid(x):\n",
    "    return 1 / (1 + np.exp(-x))\n",
    "\n",
    "def sigmoid_derivative(x):\n",
    "    s = sigmoid(x)\n",
    "    return s * (1 - s)\n",
    "\n",
    "# Add the function to the store\n",
    "add_function('sigmoid', sigmoid, sigmoid_derivative)\n",
    "\n",
    "# Now you can use it\n",
    "x = Dual(2, {'x': 1})\n",
    "result = sigmoid(x)\n",
    "print(result)\n"
   ]
  },
  {
   "cell_type": "code",
   "execution_count": null,
   "metadata": {},
   "outputs": [],
   "source": []
  }
 ],
 "metadata": {
  "kernelspec": {
   "display_name": "dual_autodiff-env",
   "language": "python",
   "name": "python3"
  },
  "language_info": {
   "codemirror_mode": {
    "name": "ipython",
    "version": 3
   },
   "file_extension": ".py",
   "mimetype": "text/x-python",
   "name": "python",
   "nbconvert_exporter": "python",
   "pygments_lexer": "ipython3",
   "version": "3.13.0"
  }
 },
 "nbformat": 4,
 "nbformat_minor": 2
}
